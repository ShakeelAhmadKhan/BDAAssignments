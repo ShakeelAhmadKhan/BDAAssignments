{
 "cells": [
  {
   "cell_type": "code",
   "execution_count": 2,
   "metadata": {},
   "outputs": [
    {
     "name": "stdout",
     "output_type": "stream",
     "text": [
      "12Password34%'\n",
      "Enter User Name: a.b\n",
      "What is the password? shakeel123\n",
      "I don’t know you.\n"
     ]
    }
   ],
   "source": [
    "\"\"\"\n",
    "Q3. Write a program that validates user login credentials. \n",
    "    The program must prompt the user for a username and password. \n",
    "    The program should compare the password given by the user to a known password. \n",
    "    If the password matches, the program should display “Welcome!” \n",
    "    If it doesn’t match, the program should display “I don’t know you.”\n",
    "\n",
    "    Example Output\n",
    "        What is the password? 12345\n",
    "        I don't know you.\n",
    "    Or\n",
    "    \n",
    "        What is the password? abc$123\n",
    "        Welcome!\n",
    "\"\"\"\n",
    "str_known_password = \"12Password34%\\'\"\n",
    "print(str_known_password)\n",
    "str_user_name = input(\"Enter User Name: \")\n",
    "str_user_pass = input(\"What is the password? \")\n",
    "\n",
    "if str_user_pass == str_known_password:\n",
    "    print(\"Welcome!\")\n",
    "else:\n",
    "    print(\"I don’t know you.\")"
   ]
  },
  {
   "cell_type": "code",
   "execution_count": null,
   "metadata": {},
   "outputs": [],
   "source": []
  }
 ],
 "metadata": {
  "kernelspec": {
   "display_name": "Python 3",
   "language": "python",
   "name": "python3"
  },
  "language_info": {
   "codemirror_mode": {
    "name": "ipython",
    "version": 3
   },
   "file_extension": ".py",
   "mimetype": "text/x-python",
   "name": "python",
   "nbconvert_exporter": "python",
   "pygments_lexer": "ipython3",
   "version": "3.8.5"
  }
 },
 "nbformat": 4,
 "nbformat_minor": 4
}
