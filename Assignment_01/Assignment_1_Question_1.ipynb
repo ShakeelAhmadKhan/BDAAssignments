{
 "cells": [
  {
   "cell_type": "code",
   "execution_count": 1,
   "metadata": {},
   "outputs": [],
   "source": [
    "def is_float(x):\n",
    "    '''\n",
    "        This function takes a string as parameter and checks whether it is a Number or not (Integer or Float).\n",
    "    '''\n",
    "    try:\n",
    "        # only integers and float converts safely\n",
    "        num = float(x)\n",
    "        return True\n",
    "    except ValueError as e: # not convertable to float\n",
    "        return False"
   ]
  },
  {
   "cell_type": "code",
   "execution_count": 2,
   "metadata": {},
   "outputs": [
    {
     "name": "stdout",
     "output_type": "stream",
     "text": [
      "Enter the principal: 1500\n",
      "Enter the rate of interest: 4.3\n",
      "Enter the number of years: 4\n",
      "----------------------------------------------------------------------------\n",
      "The Principal Amount is:  1500.0\n",
      "The Time duration is:  4.0\n",
      "The Rate of Interest (in percentage) is 4.3\n",
      "The Simple Interest is: 258.0\n",
      "Sum of Principal Amount and Simple Interest is: 1758\n"
     ]
    }
   ],
   "source": [
    "\"\"\"\n",
    "Q1. Write a program that computes simple interest. Prompt for the principal amount, the\n",
    "rate as a percentage, and the time, and display the amount accrued (principal + interest).\n",
    "The formula for simple interest is A = P(1 + rt), where P is the principal amount, r is the\n",
    "annual rate of interest, t is the number of years the amount is invested, and A is the amount\n",
    "at the end of the investment.\n",
    "Example Output:\n",
    "    Enter the principal: 1500\n",
    "    Enter the rate of interest: 4.3\n",
    "    Enter the number of years: 4\n",
    "    “After 4 years at 4.3%, the investment will be worth $1758.”\n",
    "\"\"\"  \n",
    "  \n",
    "def Calculate_Simple_Interest(principal_amount:float,time_duration:float,rate_in_percentage:float)->float:\n",
    "    print('The Principal Amount is: ', principal_amount)\n",
    "    print('The Time duration is: ', time_duration)\n",
    "    print('The Rate of Interest (in percentage) is',rate_in_percentage)\n",
    "      \n",
    "    si = (principal_amount * time_duration * rate_in_percentage)/100\n",
    "      \n",
    "    print('The Simple Interest is:', str(si))\n",
    "    return si\n",
    "      \n",
    "# Driver code\n",
    "Prin = input(\"Enter the principal: \")\n",
    "if str.isdigit(Prin) == True:\n",
    "    Rate = input(\"Enter the rate of interest: \") \n",
    "    if is_float(Rate) == True:\n",
    "        Time = input(\"Enter the number of years: \")\n",
    "        if str.isdigit(Time) == True:\n",
    "            print(\"----------------------------------------------------------------------------\")\n",
    "            Simple_Interest_ = Calculate_Simple_Interest(float(Prin), float(Time), float(Rate))            \n",
    "            #Simple_Interest_ = (Prin * Time * Rate)/100\n",
    "            print (\"Sum of Principal Amount and Simple Interest is: \" + str(int(Simple_Interest_) + int(Prin)))\n",
    "        else:\n",
    "            print(\"Invalid number of years.\")\n",
    "    else:\n",
    "        print(\"Invalid rate of interest.\")\n",
    "else:\n",
    "    print(\"Invalid principal amount.\")"
   ]
  },
  {
   "cell_type": "code",
   "execution_count": null,
   "metadata": {},
   "outputs": [],
   "source": []
  }
 ],
 "metadata": {
  "kernelspec": {
   "display_name": "Python 3",
   "language": "python",
   "name": "python3"
  },
  "language_info": {
   "codemirror_mode": {
    "name": "ipython",
    "version": 3
   },
   "file_extension": ".py",
   "mimetype": "text/x-python",
   "name": "python",
   "nbconvert_exporter": "python",
   "pygments_lexer": "ipython3",
   "version": "3.8.5"
  }
 },
 "nbformat": 4,
 "nbformat_minor": 4
}
