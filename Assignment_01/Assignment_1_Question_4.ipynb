{
 "cells": [
  {
   "cell_type": "code",
   "execution_count": 2,
   "metadata": {},
   "outputs": [
    {
     "name": "stdout",
     "output_type": "stream",
     "text": [
      "What is your age? 16\n",
      "You are old enough to legally drive.\n"
     ]
    }
   ],
   "source": [
    "\"\"\"\n",
    "Q4. Write a program that asks the user for their age and compare it to the legal driven age of sixteen.\n",
    "    If the user is sixteen or older, then the program should display 'You are old enough to legally drive.'\n",
    "    If the user is under sixteen, the program should display 'You are not old enough to legally drive.'\n",
    "\"\"\"\n",
    "age=input(\"What is your age? \")\n",
    "\n",
    "if str.isdigit(age)==True:\n",
    "    if int(age)<16:\n",
    "        print(\"You are not old enough to legally drive.\")\n",
    "    else:\n",
    "        print(\"You are old enough to legally drive.\")\n",
    "else:\n",
    "    print(\"Invalid age entered.\")"
   ]
  },
  {
   "cell_type": "code",
   "execution_count": null,
   "metadata": {},
   "outputs": [],
   "source": []
  },
  {
   "cell_type": "code",
   "execution_count": null,
   "metadata": {},
   "outputs": [],
   "source": []
  }
 ],
 "metadata": {
  "kernelspec": {
   "display_name": "Python 3",
   "language": "python",
   "name": "python3"
  },
  "language_info": {
   "codemirror_mode": {
    "name": "ipython",
    "version": 3
   },
   "file_extension": ".py",
   "mimetype": "text/x-python",
   "name": "python",
   "nbconvert_exporter": "python",
   "pygments_lexer": "ipython3",
   "version": "3.8.5"
  }
 },
 "nbformat": 4,
 "nbformat_minor": 4
}
