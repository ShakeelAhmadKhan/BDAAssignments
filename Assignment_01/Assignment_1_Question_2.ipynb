{
 "cells": [
  {
   "cell_type": "code",
   "execution_count": 12,
   "metadata": {},
   "outputs": [],
   "source": [
    "def is_float(x):\n",
    "    '''\n",
    "        This function takes a string as parameter and checks whether it is a Number or not (Integer or Float).\n",
    "    '''\n",
    "    try:\n",
    "        # only integers and float converts safely\n",
    "        num = float(x)\n",
    "        return True\n",
    "    except ValueError as e: # not convertable to float\n",
    "        return False\n"
   ]
  },
  {
   "cell_type": "code",
   "execution_count": 13,
   "metadata": {},
   "outputs": [],
   "source": [
    "def calculate_tax_amount(amount:float, state:str, tax_percentage:float)->float:\n",
    "    return float(amount) / 100 * float(tax_percentage)"
   ]
  },
  {
   "cell_type": "code",
   "execution_count": 14,
   "metadata": {},
   "outputs": [],
   "source": [
    "def take_order_amount()->str:\n",
    "    int_count = 0\n",
    "    str_return=''\n",
    "    \n",
    "    str_order_amount_query_actual = 'What is the order amount? '\n",
    "    str_order_amount_invalid = \"Order amount entered is invalid. Please enter again.\\n\"\n",
    "    \n",
    "    #Keep on prompting the user for order amount, unless a correct floating point value is entered.\n",
    "    while is_float(str_return) == False:\n",
    "        #if user is bein gprompted for first time then do not cocatenate the string \"\"\n",
    "        if int_count > 0:\n",
    "            str_return = str_order_amount_invalid + str_order_amount_query_actual\n",
    "        else:\n",
    "            str_return = str_order_amount_query_actual\n",
    "\n",
    "        str_return = input(str_return)\n",
    "        int_count+=1\n",
    "        \n",
    "        return str_return"
   ]
  },
  {
   "cell_type": "code",
   "execution_count": 15,
   "metadata": {},
   "outputs": [],
   "source": [
    "def take_order_state()->str:\n",
    "    str_order_state_query_actual = 'What is the state? '\n",
    "    str_order_state_invalid = \"State entered is invalid. Please enter again.\\n\"\n",
    "\n",
    "    int_count = 0\n",
    "    str_return=''\n",
    "    \n",
    "    #Keep on prompting the user for state, unless a correct value is etered.\n",
    "    \n",
    "    #Following are the conditions of the correct State\n",
    "    #1. Length must be 2 characters\n",
    "    #2. Only alphabets must be contained in the State\n",
    "    int_count = 0\n",
    "    while len(str_return) !=2 or str_return.isalpha() == False:\n",
    "        #print (\"len(param_order_state):\" + str(len(param_order_state)))\n",
    "        #print (\"param_order_state.isalpha(): \" + str(param_order_state.isalpha()))\n",
    "        #if user is bein gprompted for first time then do not cocatenate the string \"\"\n",
    "        if int_count > 0:\n",
    "            str_return = str_order_state_invalid + str_order_state_query_actual\n",
    "        else:\n",
    "            str_return = str_order_state_query_actual\n",
    "\n",
    "        str_return = input(str_return)\n",
    "        int_count+=1\n",
    "    \n",
    "    return str_return"
   ]
  },
  {
   "cell_type": "code",
   "execution_count": 16,
   "metadata": {},
   "outputs": [
    {
     "name": "stdout",
     "output_type": "stream",
     "text": [
      "What is the order amount? 10\n",
      "What is the state? ML\n",
      "The total is $10.0\n"
     ]
    }
   ],
   "source": [
    "\"\"\"\n",
    "Q2. Write a program to compute the tax on an order amount. The program should prompt\n",
    "    for the order amount and the state. If the state is “WI,” then the order must be charged\n",
    "    5.5% tax. The program should display the subtotal, tax, and total for Wisconsin residents\n",
    "    but display just the total for non-residents.\n",
    "\n",
    "    Example Output\n",
    "        What is the order amount? 10\n",
    "        What is the state? WI\n",
    "\n",
    "        The subtotal is $10.00.\n",
    "        The tax is $0.55.\n",
    "        The total is $10.55.\n",
    "\n",
    "     Or\n",
    "\n",
    "        What is the order amount? 10\n",
    "        What is the state? MN\n",
    "\n",
    "        The total is $10.00\n",
    "\"\"\"\n",
    "tax_percentage = 5.5\n",
    "\n",
    "#1. Get Order amount\n",
    "param_order_amount = take_order_amount()\n",
    "\n",
    "#2. Get State\n",
    "param_order_state =  take_order_state()\n",
    "    \n",
    "#if state !='WI':\n",
    "if param_order_state.find(\"WI\")<0:\n",
    "    tax_percentage = 0.0\n",
    "    \n",
    "#3. Get the Tax amount calculated\n",
    "tax_amount = calculate_tax_amount(param_order_amount,param_order_state, tax_percentage)\n",
    "\n",
    "print(\"The total is $\"+str(float(param_order_amount) + float(tax_amount))) "
   ]
  },
  {
   "cell_type": "code",
   "execution_count": null,
   "metadata": {},
   "outputs": [],
   "source": []
  }
 ],
 "metadata": {
  "kernelspec": {
   "display_name": "Python 3",
   "language": "python",
   "name": "python3"
  },
  "language_info": {
   "codemirror_mode": {
    "name": "ipython",
    "version": 3
   },
   "file_extension": ".py",
   "mimetype": "text/x-python",
   "name": "python",
   "nbconvert_exporter": "python",
   "pygments_lexer": "ipython3",
   "version": "3.8.5"
  }
 },
 "nbformat": 4,
 "nbformat_minor": 4
}
