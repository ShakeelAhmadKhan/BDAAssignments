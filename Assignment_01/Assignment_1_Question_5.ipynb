{
 "cells": [
  {
   "cell_type": "code",
   "execution_count": 2,
   "metadata": {},
   "outputs": [],
   "source": [
    "def is_float(x):\n",
    "    '''\n",
    "        This function takes a string as parameter and checks whether it is a Number or not (Integer or Float).\n",
    "    '''\n",
    "    try:\n",
    "        # only integers and float converts safely\n",
    "        num = float(x)\n",
    "        return True\n",
    "    except ValueError as e: # not convertable to float\n",
    "        return False"
   ]
  },
  {
   "cell_type": "code",
   "execution_count": 13,
   "metadata": {},
   "outputs": [
    {
     "name": "stdout",
     "output_type": "stream",
     "text": [
      "Press C to convert from Farenheit to Celcius.\n",
      "Press F to convert from Celcius to Farenheit.\n",
      "c\n",
      "Your choice: C\n",
      "Please enter the temperature in Farenheit: 44\n",
      "The temperature in Celcius is: 6.666666666666667\n"
     ]
    }
   ],
   "source": [
    "\"\"\"\n",
    "Q5. Create a program that converts temperature from Farenheit to Celcius or from Celcius to Farenheit.\n",
    "    Prompt for the starting temperature. \n",
    "    The program should prompt for the type of conversion and then perform the covnersion.\n",
    "    \n",
    "    The Formulas are \n",
    "        C = (F-32) x 5/9\n",
    "        \n",
    "        and\n",
    "        \n",
    "        F = (C x 9/5)+32\n",
    "    \n",
    "    Example Output:\n",
    "    \n",
    "    Press C to convert from Farenheit to Celcius.\n",
    "    Press F to convert from Celcius to Farenheit.\n",
    "    Your choice: C\n",
    "    \n",
    "    Please enter the temperature in Farenheit: 32\n",
    "    The temperature in Celcius is: 0.\n",
    "\"\"\"\n",
    "TempType = input(\"Press C to convert from Farenheit to Celcius.\\nPress F to convert from Celcius to Farenheit.\\n\")\n",
    "\n",
    "if  len(str.strip(TempType)) == 1:\n",
    "    TempType = TempType.upper()\n",
    "    if TempType == \"C\" or TempType == \"F\":\n",
    "        print(\"Your choice: \" + TempType)\n",
    "\n",
    "        if TempType == \"C\":\n",
    "            temperature = input(\"Please enter the temperature in Farenheit: \")\n",
    "        elif TempType == \"F\":\n",
    "            temperature = input(\"Please enter the temperature in Celcius: \")\n",
    "\n",
    "        if is_float(temperature) == True:\n",
    "            if TempType == \"C\":\n",
    "                calculatedTemp = float((float(temperature)-32) * 5/9)\n",
    "                print(\"The temperature in Celcius is: \" + str(calculatedTemp))\n",
    "            else:\n",
    "                calculatedTemp = float((float(temperature) * 9/5)+32)\n",
    "                print(\"The temperature in Farenheit is: \" + str(calculatedTemp))\n",
    "        else:\n",
    "            print(\"Invalid temperature entered.\")\n",
    "    else:\n",
    "        print(\"Your choice: \" + TempType+\". \\nWrong character pressed.\")\n",
    "else:\n",
    "    print(\"More than 1 characters are entered. Only 1 characer was required.\")"
   ]
  },
  {
   "cell_type": "code",
   "execution_count": null,
   "metadata": {},
   "outputs": [],
   "source": []
  },
  {
   "cell_type": "code",
   "execution_count": null,
   "metadata": {},
   "outputs": [],
   "source": []
  }
 ],
 "metadata": {
  "kernelspec": {
   "display_name": "Python 3",
   "language": "python",
   "name": "python3"
  },
  "language_info": {
   "codemirror_mode": {
    "name": "ipython",
    "version": 3
   },
   "file_extension": ".py",
   "mimetype": "text/x-python",
   "name": "python",
   "nbconvert_exporter": "python",
   "pygments_lexer": "ipython3",
   "version": "3.8.5"
  }
 },
 "nbformat": 4,
 "nbformat_minor": 4
}
